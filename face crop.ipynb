{
 "cells": [
  {
   "cell_type": "code",
   "execution_count": null,
   "metadata": {},
   "outputs": [
    {
     "name": "stdout",
     "output_type": "stream",
     "text": [
      "Face detection and saving complete.\n"
     ]
    }
   ],
   "source": [
    "import cv2\n",
    "import os\n",
    "\n",
    "# Function to detect faces and save them\n",
    "def detect_and_save_faces(image_path, output_folder):\n",
    "    # Read the image\n",
    "    img = cv2.imread(image_path)\n",
    "    # Load the face cascade classifier\n",
    "    face_cascade = cv2.CascadeClassifier(cv2.data.haarcascades + \"haarcascade_frontalface_default.xml\")\n",
    "    # Detect faces\n",
    "    faces = face_cascade.detectMultiScale(img, scaleFactor=1.05, minNeighbors=3)\n",
    "    # Iterate over detected faces\n",
    "    for i, (x, y, w, h) in enumerate(faces):\n",
    "        # Draw a rectangle around the detected face\n",
    "        cv2.rectangle(img, (x, y), (x+w, y+h), (0, 255, 0), 3)\n",
    "        # Extract the face region\n",
    "        face = img[y:y+h, x:x+w]\n",
    "        # Get the actor's name from the image path\n",
    "        actor_name = os.path.basename(os.path.dirname(image_path))\n",
    "        # Create a folder for the actor if it doesn't exist\n",
    "        actor_folder = os.path.join(output_folder, actor_name)\n",
    "        os.makedirs(actor_folder, exist_ok=True)\n",
    "        # Save the extracted face in the actor's folder\n",
    "        face_output_path = os.path.join(actor_folder, f\"{os.path.basename(image_path)}_face_{i}.jpg\")\n",
    "        cv2.imwrite(face_output_path, face)\n",
    "\n",
    "# Input folder containing images\n",
    "input_folder = r\"C:\\Users\\nabee\\OneDrive\\Desktop\\deep learning\\Lab4&5\\105_classes_pins_dataset\"\n",
    "# Output folder to save extracted faces\n",
    "output_folder = r\"C:\\Users\\nabee\\OneDrive\\Desktop\\deep learning\\Lab4&5\\cropped_faces\"\n",
    "\n",
    "# Create the output folder if it doesn't exist\n",
    "os.makedirs(output_folder, exist_ok=True)\n",
    "\n",
    "# Iterate over images in the input folder\n",
    "for root, dirs, files in os.walk(input_folder):\n",
    "    for file in files:\n",
    "        if file.endswith(\".jpg\") or file.endswith(\".png\"):\n",
    "            image_path = os.path.join(root, file)\n",
    "            # Detect and save faces in the current image\n",
    "            detect_and_save_faces(image_path, output_folder)\n",
    "\n",
    "print(\"Face detection and saving complete.\")\n"
   ]
  }
 ],
 "metadata": {
  "kernelspec": {
   "display_name": "Python 3",
   "language": "python",
   "name": "python3"
  },
  "language_info": {
   "codemirror_mode": {
    "name": "ipython",
    "version": 3
   },
   "file_extension": ".py",
   "mimetype": "text/x-python",
   "name": "python",
   "nbconvert_exporter": "python",
   "pygments_lexer": "ipython3",
   "version": "3.11.6"
  }
 },
 "nbformat": 4,
 "nbformat_minor": 2
}
